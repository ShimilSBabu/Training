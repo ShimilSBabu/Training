{
  "nbformat": 4,
  "nbformat_minor": 0,
  "metadata": {
    "colab": {
      "provenance": [],
      "mount_file_id": "1Mxqrdsf2e5L9piopLTC062ZGT_PE3aKX",
      "authorship_tag": "ABX9TyN3O5ZqWUsiasYK8ZZ1OLDp",
      "include_colab_link": true
    },
    "kernelspec": {
      "name": "python3",
      "display_name": "Python 3"
    },
    "language_info": {
      "name": "python"
    },
    "accelerator": "GPU",
    "gpuClass": "standard"
  },
  "cells": [
    {
      "cell_type": "markdown",
      "metadata": {
        "id": "view-in-github",
        "colab_type": "text"
      },
      "source": [
        "<a href=\"https://colab.research.google.com/github/ShimilSBabu/Training/blob/main/credit_card_fraud_detection_using_k_means_and_knn.ipynb\" target=\"_parent\"><img src=\"https://colab.research.google.com/assets/colab-badge.svg\" alt=\"Open In Colab\"/></a>"
      ]
    },
    {
      "cell_type": "markdown",
      "source": [
        "### Imports"
      ],
      "metadata": {
        "id": "jHm5GFgidxk2"
      }
    },
    {
      "cell_type": "code",
      "execution_count": null,
      "metadata": {
        "id": "7KzZw3yDdiXd"
      },
      "outputs": [],
      "source": [
        "import numpy as np\n",
        "import pandas as pd\n",
        "from sklearn.cluster import KMeans\n",
        "from sklearn.neighbors import KNeighborsClassifier\n",
        "from sklearn.model_selection import train_test_split\n",
        "from sklearn.preprocessing import normalize\n",
        "from sklearn.metrics import confusion_matrix\n",
        "from sklearn.metrics import accuracy_score\n",
        "from sklearn.metrics import precision_score\n",
        "from sklearn.metrics import recall_score\n",
        "from sklearn.metrics import f1_score\n",
        "import time"
      ]
    },
    {
      "cell_type": "code",
      "source": [
        "tic=time.time() # Recording the current time"
      ],
      "metadata": {
        "id": "lAogW-38hjNu"
      },
      "execution_count": null,
      "outputs": []
    },
    {
      "cell_type": "markdown",
      "source": [
        "## Reading the dataset"
      ],
      "metadata": {
        "id": "JZRcOy4_h6ZX"
      }
    },
    {
      "cell_type": "code",
      "source": [
        "full_data=pd.read_csv(\"/content/drive/MyDrive/IDRBT/creditcard.csv\")\n",
        "full_data=full_data.sample(frac=1) #randomize the whole dataset\n",
        "full_data.head() #Displaying the 1st 5 records"
      ],
      "metadata": {
        "colab": {
          "base_uri": "https://localhost:8080/",
          "height": 299
        },
        "id": "tPou1ghoiCCa",
        "outputId": "f5c854f3-1dc9-4511-c5a5-d0dbc36e7114"
      },
      "execution_count": null,
      "outputs": [
        {
          "output_type": "execute_result",
          "data": {
            "text/plain": [
              "           Time        V1        V2        V3        V4        V5        V6  \\\n",
              "149179  90754.0 -0.562588  1.305985 -2.096885  0.258754  3.593192  3.485403   \n",
              "9358    13642.0  1.220170 -0.036126  0.762629  0.121446 -0.600395 -0.365912   \n",
              "113647  73150.0  1.232073  0.126395  0.158571  0.261390  0.164484  0.274730   \n",
              "95380   65277.0 -0.305362  1.065752  0.832635 -0.327080  0.669941  0.011406   \n",
              "43756   41641.0 -0.606198  0.290522  0.087740 -1.709809 -0.264325 -0.839920   \n",
              "\n",
              "              V7        V8        V9  ...       V21       V22       V23  \\\n",
              "149179  0.974274  0.670845  0.608623  ... -0.177544  0.074177 -0.241896   \n",
              "9358   -0.490836 -0.019100  1.480623  ... -0.310389 -0.739730  0.106822   \n",
              "113647 -0.138243  0.134701 -0.157259  ... -0.232711 -0.672352  0.051517   \n",
              "95380   0.613012  0.129249 -0.620189  ... -0.284010 -0.766470 -0.170682   \n",
              "43756   0.029103  0.358654 -0.951743  ...  0.243686  0.576829 -0.159068   \n",
              "\n",
              "             V24       V25       V26       V27       V28  Amount  Class  \n",
              "149179  0.533475  0.111364 -0.386573  0.621618  0.289811   91.04      0  \n",
              "9358   -0.021256 -0.015298  0.752247 -0.097937 -0.003457   18.11      0  \n",
              "113647 -0.814473  0.223814  0.158195 -0.017703 -0.002987    1.98      0  \n",
              "95380  -0.893991 -0.024500  0.126348  0.241579  0.076940    5.38      0  \n",
              "43756  -0.458484 -0.144509 -0.273961  0.259370  0.138844   24.00      0  \n",
              "\n",
              "[5 rows x 31 columns]"
            ],
            "text/html": [
              "\n",
              "  <div id=\"df-4b6b49d9-4730-4dc4-b6eb-c98649fd6850\">\n",
              "    <div class=\"colab-df-container\">\n",
              "      <div>\n",
              "<style scoped>\n",
              "    .dataframe tbody tr th:only-of-type {\n",
              "        vertical-align: middle;\n",
              "    }\n",
              "\n",
              "    .dataframe tbody tr th {\n",
              "        vertical-align: top;\n",
              "    }\n",
              "\n",
              "    .dataframe thead th {\n",
              "        text-align: right;\n",
              "    }\n",
              "</style>\n",
              "<table border=\"1\" class=\"dataframe\">\n",
              "  <thead>\n",
              "    <tr style=\"text-align: right;\">\n",
              "      <th></th>\n",
              "      <th>Time</th>\n",
              "      <th>V1</th>\n",
              "      <th>V2</th>\n",
              "      <th>V3</th>\n",
              "      <th>V4</th>\n",
              "      <th>V5</th>\n",
              "      <th>V6</th>\n",
              "      <th>V7</th>\n",
              "      <th>V8</th>\n",
              "      <th>V9</th>\n",
              "      <th>...</th>\n",
              "      <th>V21</th>\n",
              "      <th>V22</th>\n",
              "      <th>V23</th>\n",
              "      <th>V24</th>\n",
              "      <th>V25</th>\n",
              "      <th>V26</th>\n",
              "      <th>V27</th>\n",
              "      <th>V28</th>\n",
              "      <th>Amount</th>\n",
              "      <th>Class</th>\n",
              "    </tr>\n",
              "  </thead>\n",
              "  <tbody>\n",
              "    <tr>\n",
              "      <th>149179</th>\n",
              "      <td>90754.0</td>\n",
              "      <td>-0.562588</td>\n",
              "      <td>1.305985</td>\n",
              "      <td>-2.096885</td>\n",
              "      <td>0.258754</td>\n",
              "      <td>3.593192</td>\n",
              "      <td>3.485403</td>\n",
              "      <td>0.974274</td>\n",
              "      <td>0.670845</td>\n",
              "      <td>0.608623</td>\n",
              "      <td>...</td>\n",
              "      <td>-0.177544</td>\n",
              "      <td>0.074177</td>\n",
              "      <td>-0.241896</td>\n",
              "      <td>0.533475</td>\n",
              "      <td>0.111364</td>\n",
              "      <td>-0.386573</td>\n",
              "      <td>0.621618</td>\n",
              "      <td>0.289811</td>\n",
              "      <td>91.04</td>\n",
              "      <td>0</td>\n",
              "    </tr>\n",
              "    <tr>\n",
              "      <th>9358</th>\n",
              "      <td>13642.0</td>\n",
              "      <td>1.220170</td>\n",
              "      <td>-0.036126</td>\n",
              "      <td>0.762629</td>\n",
              "      <td>0.121446</td>\n",
              "      <td>-0.600395</td>\n",
              "      <td>-0.365912</td>\n",
              "      <td>-0.490836</td>\n",
              "      <td>-0.019100</td>\n",
              "      <td>1.480623</td>\n",
              "      <td>...</td>\n",
              "      <td>-0.310389</td>\n",
              "      <td>-0.739730</td>\n",
              "      <td>0.106822</td>\n",
              "      <td>-0.021256</td>\n",
              "      <td>-0.015298</td>\n",
              "      <td>0.752247</td>\n",
              "      <td>-0.097937</td>\n",
              "      <td>-0.003457</td>\n",
              "      <td>18.11</td>\n",
              "      <td>0</td>\n",
              "    </tr>\n",
              "    <tr>\n",
              "      <th>113647</th>\n",
              "      <td>73150.0</td>\n",
              "      <td>1.232073</td>\n",
              "      <td>0.126395</td>\n",
              "      <td>0.158571</td>\n",
              "      <td>0.261390</td>\n",
              "      <td>0.164484</td>\n",
              "      <td>0.274730</td>\n",
              "      <td>-0.138243</td>\n",
              "      <td>0.134701</td>\n",
              "      <td>-0.157259</td>\n",
              "      <td>...</td>\n",
              "      <td>-0.232711</td>\n",
              "      <td>-0.672352</td>\n",
              "      <td>0.051517</td>\n",
              "      <td>-0.814473</td>\n",
              "      <td>0.223814</td>\n",
              "      <td>0.158195</td>\n",
              "      <td>-0.017703</td>\n",
              "      <td>-0.002987</td>\n",
              "      <td>1.98</td>\n",
              "      <td>0</td>\n",
              "    </tr>\n",
              "    <tr>\n",
              "      <th>95380</th>\n",
              "      <td>65277.0</td>\n",
              "      <td>-0.305362</td>\n",
              "      <td>1.065752</td>\n",
              "      <td>0.832635</td>\n",
              "      <td>-0.327080</td>\n",
              "      <td>0.669941</td>\n",
              "      <td>0.011406</td>\n",
              "      <td>0.613012</td>\n",
              "      <td>0.129249</td>\n",
              "      <td>-0.620189</td>\n",
              "      <td>...</td>\n",
              "      <td>-0.284010</td>\n",
              "      <td>-0.766470</td>\n",
              "      <td>-0.170682</td>\n",
              "      <td>-0.893991</td>\n",
              "      <td>-0.024500</td>\n",
              "      <td>0.126348</td>\n",
              "      <td>0.241579</td>\n",
              "      <td>0.076940</td>\n",
              "      <td>5.38</td>\n",
              "      <td>0</td>\n",
              "    </tr>\n",
              "    <tr>\n",
              "      <th>43756</th>\n",
              "      <td>41641.0</td>\n",
              "      <td>-0.606198</td>\n",
              "      <td>0.290522</td>\n",
              "      <td>0.087740</td>\n",
              "      <td>-1.709809</td>\n",
              "      <td>-0.264325</td>\n",
              "      <td>-0.839920</td>\n",
              "      <td>0.029103</td>\n",
              "      <td>0.358654</td>\n",
              "      <td>-0.951743</td>\n",
              "      <td>...</td>\n",
              "      <td>0.243686</td>\n",
              "      <td>0.576829</td>\n",
              "      <td>-0.159068</td>\n",
              "      <td>-0.458484</td>\n",
              "      <td>-0.144509</td>\n",
              "      <td>-0.273961</td>\n",
              "      <td>0.259370</td>\n",
              "      <td>0.138844</td>\n",
              "      <td>24.00</td>\n",
              "      <td>0</td>\n",
              "    </tr>\n",
              "  </tbody>\n",
              "</table>\n",
              "<p>5 rows × 31 columns</p>\n",
              "</div>\n",
              "      <button class=\"colab-df-convert\" onclick=\"convertToInteractive('df-4b6b49d9-4730-4dc4-b6eb-c98649fd6850')\"\n",
              "              title=\"Convert this dataframe to an interactive table.\"\n",
              "              style=\"display:none;\">\n",
              "        \n",
              "  <svg xmlns=\"http://www.w3.org/2000/svg\" height=\"24px\"viewBox=\"0 0 24 24\"\n",
              "       width=\"24px\">\n",
              "    <path d=\"M0 0h24v24H0V0z\" fill=\"none\"/>\n",
              "    <path d=\"M18.56 5.44l.94 2.06.94-2.06 2.06-.94-2.06-.94-.94-2.06-.94 2.06-2.06.94zm-11 1L8.5 8.5l.94-2.06 2.06-.94-2.06-.94L8.5 2.5l-.94 2.06-2.06.94zm10 10l.94 2.06.94-2.06 2.06-.94-2.06-.94-.94-2.06-.94 2.06-2.06.94z\"/><path d=\"M17.41 7.96l-1.37-1.37c-.4-.4-.92-.59-1.43-.59-.52 0-1.04.2-1.43.59L10.3 9.45l-7.72 7.72c-.78.78-.78 2.05 0 2.83L4 21.41c.39.39.9.59 1.41.59.51 0 1.02-.2 1.41-.59l7.78-7.78 2.81-2.81c.8-.78.8-2.07 0-2.86zM5.41 20L4 18.59l7.72-7.72 1.47 1.35L5.41 20z\"/>\n",
              "  </svg>\n",
              "      </button>\n",
              "      \n",
              "  <style>\n",
              "    .colab-df-container {\n",
              "      display:flex;\n",
              "      flex-wrap:wrap;\n",
              "      gap: 12px;\n",
              "    }\n",
              "\n",
              "    .colab-df-convert {\n",
              "      background-color: #E8F0FE;\n",
              "      border: none;\n",
              "      border-radius: 50%;\n",
              "      cursor: pointer;\n",
              "      display: none;\n",
              "      fill: #1967D2;\n",
              "      height: 32px;\n",
              "      padding: 0 0 0 0;\n",
              "      width: 32px;\n",
              "    }\n",
              "\n",
              "    .colab-df-convert:hover {\n",
              "      background-color: #E2EBFA;\n",
              "      box-shadow: 0px 1px 2px rgba(60, 64, 67, 0.3), 0px 1px 3px 1px rgba(60, 64, 67, 0.15);\n",
              "      fill: #174EA6;\n",
              "    }\n",
              "\n",
              "    [theme=dark] .colab-df-convert {\n",
              "      background-color: #3B4455;\n",
              "      fill: #D2E3FC;\n",
              "    }\n",
              "\n",
              "    [theme=dark] .colab-df-convert:hover {\n",
              "      background-color: #434B5C;\n",
              "      box-shadow: 0px 1px 3px 1px rgba(0, 0, 0, 0.15);\n",
              "      filter: drop-shadow(0px 1px 2px rgba(0, 0, 0, 0.3));\n",
              "      fill: #FFFFFF;\n",
              "    }\n",
              "  </style>\n",
              "\n",
              "      <script>\n",
              "        const buttonEl =\n",
              "          document.querySelector('#df-4b6b49d9-4730-4dc4-b6eb-c98649fd6850 button.colab-df-convert');\n",
              "        buttonEl.style.display =\n",
              "          google.colab.kernel.accessAllowed ? 'block' : 'none';\n",
              "\n",
              "        async function convertToInteractive(key) {\n",
              "          const element = document.querySelector('#df-4b6b49d9-4730-4dc4-b6eb-c98649fd6850');\n",
              "          const dataTable =\n",
              "            await google.colab.kernel.invokeFunction('convertToInteractive',\n",
              "                                                     [key], {});\n",
              "          if (!dataTable) return;\n",
              "\n",
              "          const docLinkHtml = 'Like what you see? Visit the ' +\n",
              "            '<a target=\"_blank\" href=https://colab.research.google.com/notebooks/data_table.ipynb>data table notebook</a>'\n",
              "            + ' to learn more about interactive tables.';\n",
              "          element.innerHTML = '';\n",
              "          dataTable['output_type'] = 'display_data';\n",
              "          await google.colab.output.renderOutput(dataTable, element);\n",
              "          const docLink = document.createElement('div');\n",
              "          docLink.innerHTML = docLinkHtml;\n",
              "          element.appendChild(docLink);\n",
              "        }\n",
              "      </script>\n",
              "    </div>\n",
              "  </div>\n",
              "  "
            ]
          },
          "metadata": {},
          "execution_count": 13
        }
      ]
    },
    {
      "cell_type": "markdown",
      "source": [
        "## Removing the Time and Class features from the dataset"
      ],
      "metadata": {
        "id": "n1oGInN6ieK1"
      }
    },
    {
      "cell_type": "code",
      "source": [
        "full_features=full_data.drop([\"Time\",\"Class\"],axis=1)\n",
        "full_features.tail() #Displaying the last 5 records"
      ],
      "metadata": {
        "colab": {
          "base_uri": "https://localhost:8080/",
          "height": 299
        },
        "id": "Yddgjlv_iaoW",
        "outputId": "5a116223-f1df-4087-d7c7-810139c45e63"
      },
      "execution_count": null,
      "outputs": [
        {
          "output_type": "execute_result",
          "data": {
            "text/plain": [
              "              V1        V2        V3        V4        V5        V6        V7  \\\n",
              "4715    0.935020 -0.233224  2.247853  3.113497 -1.076881  1.569162 -1.326054   \n",
              "174258  1.400961 -1.865317 -0.602290 -0.425359 -1.244164  0.266471 -0.693451   \n",
              "191466 -3.565426  3.477905 -2.831556 -0.886672 -0.707109 -0.698496 -1.001844   \n",
              "171730 -4.350429 -1.764845 -1.297726 -0.576341  2.506038  0.298357  1.325190   \n",
              "42500  -0.195276 -1.912162 -0.626016  1.891629 -0.598437 -0.104347  1.264147   \n",
              "\n",
              "              V8        V9       V10  ...       V20       V21       V22  \\\n",
              "4715    0.483972  2.081040 -0.007361  ... -0.051181 -0.019305  0.568895   \n",
              "174258  0.270763  2.042763 -0.531569  ...  0.326011 -0.050080 -0.591765   \n",
              "191466  2.103479  0.483688  0.178686  ...  0.369806 -0.100713 -0.193712   \n",
              "171730 -3.899371  1.763802  0.789050  ... -2.964242  1.127662 -0.473116   \n",
              "42500  -0.342911 -0.191136 -0.414731  ...  1.335563  0.441209 -0.120862   \n",
              "\n",
              "             V23       V24       V25       V26       V27       V28  Amount  \n",
              "4715   -0.207388  0.034504  0.470851  0.206519  0.059179  0.030042   52.48  \n",
              "174258  0.162853  0.714303 -0.722326  0.328833 -0.085488 -0.003300  296.00  \n",
              "191466  0.173717  0.018206  0.511757  0.505273  0.282892  0.213750    5.41  \n",
              "171730  1.602153 -0.281242 -0.129170 -0.327356 -1.124097  0.619151   76.61  \n",
              "42500  -0.765055  0.167999  0.536855 -0.311863 -0.103827  0.138209  724.44  \n",
              "\n",
              "[5 rows x 29 columns]"
            ],
            "text/html": [
              "\n",
              "  <div id=\"df-14e7b5ea-5df8-4678-8b79-76ae25cd5d71\">\n",
              "    <div class=\"colab-df-container\">\n",
              "      <div>\n",
              "<style scoped>\n",
              "    .dataframe tbody tr th:only-of-type {\n",
              "        vertical-align: middle;\n",
              "    }\n",
              "\n",
              "    .dataframe tbody tr th {\n",
              "        vertical-align: top;\n",
              "    }\n",
              "\n",
              "    .dataframe thead th {\n",
              "        text-align: right;\n",
              "    }\n",
              "</style>\n",
              "<table border=\"1\" class=\"dataframe\">\n",
              "  <thead>\n",
              "    <tr style=\"text-align: right;\">\n",
              "      <th></th>\n",
              "      <th>V1</th>\n",
              "      <th>V2</th>\n",
              "      <th>V3</th>\n",
              "      <th>V4</th>\n",
              "      <th>V5</th>\n",
              "      <th>V6</th>\n",
              "      <th>V7</th>\n",
              "      <th>V8</th>\n",
              "      <th>V9</th>\n",
              "      <th>V10</th>\n",
              "      <th>...</th>\n",
              "      <th>V20</th>\n",
              "      <th>V21</th>\n",
              "      <th>V22</th>\n",
              "      <th>V23</th>\n",
              "      <th>V24</th>\n",
              "      <th>V25</th>\n",
              "      <th>V26</th>\n",
              "      <th>V27</th>\n",
              "      <th>V28</th>\n",
              "      <th>Amount</th>\n",
              "    </tr>\n",
              "  </thead>\n",
              "  <tbody>\n",
              "    <tr>\n",
              "      <th>4715</th>\n",
              "      <td>0.935020</td>\n",
              "      <td>-0.233224</td>\n",
              "      <td>2.247853</td>\n",
              "      <td>3.113497</td>\n",
              "      <td>-1.076881</td>\n",
              "      <td>1.569162</td>\n",
              "      <td>-1.326054</td>\n",
              "      <td>0.483972</td>\n",
              "      <td>2.081040</td>\n",
              "      <td>-0.007361</td>\n",
              "      <td>...</td>\n",
              "      <td>-0.051181</td>\n",
              "      <td>-0.019305</td>\n",
              "      <td>0.568895</td>\n",
              "      <td>-0.207388</td>\n",
              "      <td>0.034504</td>\n",
              "      <td>0.470851</td>\n",
              "      <td>0.206519</td>\n",
              "      <td>0.059179</td>\n",
              "      <td>0.030042</td>\n",
              "      <td>52.48</td>\n",
              "    </tr>\n",
              "    <tr>\n",
              "      <th>174258</th>\n",
              "      <td>1.400961</td>\n",
              "      <td>-1.865317</td>\n",
              "      <td>-0.602290</td>\n",
              "      <td>-0.425359</td>\n",
              "      <td>-1.244164</td>\n",
              "      <td>0.266471</td>\n",
              "      <td>-0.693451</td>\n",
              "      <td>0.270763</td>\n",
              "      <td>2.042763</td>\n",
              "      <td>-0.531569</td>\n",
              "      <td>...</td>\n",
              "      <td>0.326011</td>\n",
              "      <td>-0.050080</td>\n",
              "      <td>-0.591765</td>\n",
              "      <td>0.162853</td>\n",
              "      <td>0.714303</td>\n",
              "      <td>-0.722326</td>\n",
              "      <td>0.328833</td>\n",
              "      <td>-0.085488</td>\n",
              "      <td>-0.003300</td>\n",
              "      <td>296.00</td>\n",
              "    </tr>\n",
              "    <tr>\n",
              "      <th>191466</th>\n",
              "      <td>-3.565426</td>\n",
              "      <td>3.477905</td>\n",
              "      <td>-2.831556</td>\n",
              "      <td>-0.886672</td>\n",
              "      <td>-0.707109</td>\n",
              "      <td>-0.698496</td>\n",
              "      <td>-1.001844</td>\n",
              "      <td>2.103479</td>\n",
              "      <td>0.483688</td>\n",
              "      <td>0.178686</td>\n",
              "      <td>...</td>\n",
              "      <td>0.369806</td>\n",
              "      <td>-0.100713</td>\n",
              "      <td>-0.193712</td>\n",
              "      <td>0.173717</td>\n",
              "      <td>0.018206</td>\n",
              "      <td>0.511757</td>\n",
              "      <td>0.505273</td>\n",
              "      <td>0.282892</td>\n",
              "      <td>0.213750</td>\n",
              "      <td>5.41</td>\n",
              "    </tr>\n",
              "    <tr>\n",
              "      <th>171730</th>\n",
              "      <td>-4.350429</td>\n",
              "      <td>-1.764845</td>\n",
              "      <td>-1.297726</td>\n",
              "      <td>-0.576341</td>\n",
              "      <td>2.506038</td>\n",
              "      <td>0.298357</td>\n",
              "      <td>1.325190</td>\n",
              "      <td>-3.899371</td>\n",
              "      <td>1.763802</td>\n",
              "      <td>0.789050</td>\n",
              "      <td>...</td>\n",
              "      <td>-2.964242</td>\n",
              "      <td>1.127662</td>\n",
              "      <td>-0.473116</td>\n",
              "      <td>1.602153</td>\n",
              "      <td>-0.281242</td>\n",
              "      <td>-0.129170</td>\n",
              "      <td>-0.327356</td>\n",
              "      <td>-1.124097</td>\n",
              "      <td>0.619151</td>\n",
              "      <td>76.61</td>\n",
              "    </tr>\n",
              "    <tr>\n",
              "      <th>42500</th>\n",
              "      <td>-0.195276</td>\n",
              "      <td>-1.912162</td>\n",
              "      <td>-0.626016</td>\n",
              "      <td>1.891629</td>\n",
              "      <td>-0.598437</td>\n",
              "      <td>-0.104347</td>\n",
              "      <td>1.264147</td>\n",
              "      <td>-0.342911</td>\n",
              "      <td>-0.191136</td>\n",
              "      <td>-0.414731</td>\n",
              "      <td>...</td>\n",
              "      <td>1.335563</td>\n",
              "      <td>0.441209</td>\n",
              "      <td>-0.120862</td>\n",
              "      <td>-0.765055</td>\n",
              "      <td>0.167999</td>\n",
              "      <td>0.536855</td>\n",
              "      <td>-0.311863</td>\n",
              "      <td>-0.103827</td>\n",
              "      <td>0.138209</td>\n",
              "      <td>724.44</td>\n",
              "    </tr>\n",
              "  </tbody>\n",
              "</table>\n",
              "<p>5 rows × 29 columns</p>\n",
              "</div>\n",
              "      <button class=\"colab-df-convert\" onclick=\"convertToInteractive('df-14e7b5ea-5df8-4678-8b79-76ae25cd5d71')\"\n",
              "              title=\"Convert this dataframe to an interactive table.\"\n",
              "              style=\"display:none;\">\n",
              "        \n",
              "  <svg xmlns=\"http://www.w3.org/2000/svg\" height=\"24px\"viewBox=\"0 0 24 24\"\n",
              "       width=\"24px\">\n",
              "    <path d=\"M0 0h24v24H0V0z\" fill=\"none\"/>\n",
              "    <path d=\"M18.56 5.44l.94 2.06.94-2.06 2.06-.94-2.06-.94-.94-2.06-.94 2.06-2.06.94zm-11 1L8.5 8.5l.94-2.06 2.06-.94-2.06-.94L8.5 2.5l-.94 2.06-2.06.94zm10 10l.94 2.06.94-2.06 2.06-.94-2.06-.94-.94-2.06-.94 2.06-2.06.94z\"/><path d=\"M17.41 7.96l-1.37-1.37c-.4-.4-.92-.59-1.43-.59-.52 0-1.04.2-1.43.59L10.3 9.45l-7.72 7.72c-.78.78-.78 2.05 0 2.83L4 21.41c.39.39.9.59 1.41.59.51 0 1.02-.2 1.41-.59l7.78-7.78 2.81-2.81c.8-.78.8-2.07 0-2.86zM5.41 20L4 18.59l7.72-7.72 1.47 1.35L5.41 20z\"/>\n",
              "  </svg>\n",
              "      </button>\n",
              "      \n",
              "  <style>\n",
              "    .colab-df-container {\n",
              "      display:flex;\n",
              "      flex-wrap:wrap;\n",
              "      gap: 12px;\n",
              "    }\n",
              "\n",
              "    .colab-df-convert {\n",
              "      background-color: #E8F0FE;\n",
              "      border: none;\n",
              "      border-radius: 50%;\n",
              "      cursor: pointer;\n",
              "      display: none;\n",
              "      fill: #1967D2;\n",
              "      height: 32px;\n",
              "      padding: 0 0 0 0;\n",
              "      width: 32px;\n",
              "    }\n",
              "\n",
              "    .colab-df-convert:hover {\n",
              "      background-color: #E2EBFA;\n",
              "      box-shadow: 0px 1px 2px rgba(60, 64, 67, 0.3), 0px 1px 3px 1px rgba(60, 64, 67, 0.15);\n",
              "      fill: #174EA6;\n",
              "    }\n",
              "\n",
              "    [theme=dark] .colab-df-convert {\n",
              "      background-color: #3B4455;\n",
              "      fill: #D2E3FC;\n",
              "    }\n",
              "\n",
              "    [theme=dark] .colab-df-convert:hover {\n",
              "      background-color: #434B5C;\n",
              "      box-shadow: 0px 1px 3px 1px rgba(0, 0, 0, 0.15);\n",
              "      filter: drop-shadow(0px 1px 2px rgba(0, 0, 0, 0.3));\n",
              "      fill: #FFFFFF;\n",
              "    }\n",
              "  </style>\n",
              "\n",
              "      <script>\n",
              "        const buttonEl =\n",
              "          document.querySelector('#df-14e7b5ea-5df8-4678-8b79-76ae25cd5d71 button.colab-df-convert');\n",
              "        buttonEl.style.display =\n",
              "          google.colab.kernel.accessAllowed ? 'block' : 'none';\n",
              "\n",
              "        async function convertToInteractive(key) {\n",
              "          const element = document.querySelector('#df-14e7b5ea-5df8-4678-8b79-76ae25cd5d71');\n",
              "          const dataTable =\n",
              "            await google.colab.kernel.invokeFunction('convertToInteractive',\n",
              "                                                     [key], {});\n",
              "          if (!dataTable) return;\n",
              "\n",
              "          const docLinkHtml = 'Like what you see? Visit the ' +\n",
              "            '<a target=\"_blank\" href=https://colab.research.google.com/notebooks/data_table.ipynb>data table notebook</a>'\n",
              "            + ' to learn more about interactive tables.';\n",
              "          element.innerHTML = '';\n",
              "          dataTable['output_type'] = 'display_data';\n",
              "          await google.colab.output.renderOutput(dataTable, element);\n",
              "          const docLink = document.createElement('div');\n",
              "          docLink.innerHTML = docLinkHtml;\n",
              "          element.appendChild(docLink);\n",
              "        }\n",
              "      </script>\n",
              "    </div>\n",
              "  </div>\n",
              "  "
            ]
          },
          "metadata": {},
          "execution_count": 14
        }
      ]
    },
    {
      "cell_type": "code",
      "source": [
        "full_labels=pd.DataFrame(full_data[[\"Class\"]])\n",
        "full_labels.head()"
      ],
      "metadata": {
        "colab": {
          "base_uri": "https://localhost:8080/",
          "height": 206
        },
        "id": "BjwCvuDwisZs",
        "outputId": "ee91f5d6-9de2-4ea3-d76e-494f6fdd4e70"
      },
      "execution_count": null,
      "outputs": [
        {
          "output_type": "execute_result",
          "data": {
            "text/plain": [
              "        Class\n",
              "149179      0\n",
              "9358        0\n",
              "113647      0\n",
              "95380       0\n",
              "43756       0"
            ],
            "text/html": [
              "\n",
              "  <div id=\"df-a4da88ae-42aa-49c7-ad2d-669bbaee05ba\">\n",
              "    <div class=\"colab-df-container\">\n",
              "      <div>\n",
              "<style scoped>\n",
              "    .dataframe tbody tr th:only-of-type {\n",
              "        vertical-align: middle;\n",
              "    }\n",
              "\n",
              "    .dataframe tbody tr th {\n",
              "        vertical-align: top;\n",
              "    }\n",
              "\n",
              "    .dataframe thead th {\n",
              "        text-align: right;\n",
              "    }\n",
              "</style>\n",
              "<table border=\"1\" class=\"dataframe\">\n",
              "  <thead>\n",
              "    <tr style=\"text-align: right;\">\n",
              "      <th></th>\n",
              "      <th>Class</th>\n",
              "    </tr>\n",
              "  </thead>\n",
              "  <tbody>\n",
              "    <tr>\n",
              "      <th>149179</th>\n",
              "      <td>0</td>\n",
              "    </tr>\n",
              "    <tr>\n",
              "      <th>9358</th>\n",
              "      <td>0</td>\n",
              "    </tr>\n",
              "    <tr>\n",
              "      <th>113647</th>\n",
              "      <td>0</td>\n",
              "    </tr>\n",
              "    <tr>\n",
              "      <th>95380</th>\n",
              "      <td>0</td>\n",
              "    </tr>\n",
              "    <tr>\n",
              "      <th>43756</th>\n",
              "      <td>0</td>\n",
              "    </tr>\n",
              "  </tbody>\n",
              "</table>\n",
              "</div>\n",
              "      <button class=\"colab-df-convert\" onclick=\"convertToInteractive('df-a4da88ae-42aa-49c7-ad2d-669bbaee05ba')\"\n",
              "              title=\"Convert this dataframe to an interactive table.\"\n",
              "              style=\"display:none;\">\n",
              "        \n",
              "  <svg xmlns=\"http://www.w3.org/2000/svg\" height=\"24px\"viewBox=\"0 0 24 24\"\n",
              "       width=\"24px\">\n",
              "    <path d=\"M0 0h24v24H0V0z\" fill=\"none\"/>\n",
              "    <path d=\"M18.56 5.44l.94 2.06.94-2.06 2.06-.94-2.06-.94-.94-2.06-.94 2.06-2.06.94zm-11 1L8.5 8.5l.94-2.06 2.06-.94-2.06-.94L8.5 2.5l-.94 2.06-2.06.94zm10 10l.94 2.06.94-2.06 2.06-.94-2.06-.94-.94-2.06-.94 2.06-2.06.94z\"/><path d=\"M17.41 7.96l-1.37-1.37c-.4-.4-.92-.59-1.43-.59-.52 0-1.04.2-1.43.59L10.3 9.45l-7.72 7.72c-.78.78-.78 2.05 0 2.83L4 21.41c.39.39.9.59 1.41.59.51 0 1.02-.2 1.41-.59l7.78-7.78 2.81-2.81c.8-.78.8-2.07 0-2.86zM5.41 20L4 18.59l7.72-7.72 1.47 1.35L5.41 20z\"/>\n",
              "  </svg>\n",
              "      </button>\n",
              "      \n",
              "  <style>\n",
              "    .colab-df-container {\n",
              "      display:flex;\n",
              "      flex-wrap:wrap;\n",
              "      gap: 12px;\n",
              "    }\n",
              "\n",
              "    .colab-df-convert {\n",
              "      background-color: #E8F0FE;\n",
              "      border: none;\n",
              "      border-radius: 50%;\n",
              "      cursor: pointer;\n",
              "      display: none;\n",
              "      fill: #1967D2;\n",
              "      height: 32px;\n",
              "      padding: 0 0 0 0;\n",
              "      width: 32px;\n",
              "    }\n",
              "\n",
              "    .colab-df-convert:hover {\n",
              "      background-color: #E2EBFA;\n",
              "      box-shadow: 0px 1px 2px rgba(60, 64, 67, 0.3), 0px 1px 3px 1px rgba(60, 64, 67, 0.15);\n",
              "      fill: #174EA6;\n",
              "    }\n",
              "\n",
              "    [theme=dark] .colab-df-convert {\n",
              "      background-color: #3B4455;\n",
              "      fill: #D2E3FC;\n",
              "    }\n",
              "\n",
              "    [theme=dark] .colab-df-convert:hover {\n",
              "      background-color: #434B5C;\n",
              "      box-shadow: 0px 1px 3px 1px rgba(0, 0, 0, 0.15);\n",
              "      filter: drop-shadow(0px 1px 2px rgba(0, 0, 0, 0.3));\n",
              "      fill: #FFFFFF;\n",
              "    }\n",
              "  </style>\n",
              "\n",
              "      <script>\n",
              "        const buttonEl =\n",
              "          document.querySelector('#df-a4da88ae-42aa-49c7-ad2d-669bbaee05ba button.colab-df-convert');\n",
              "        buttonEl.style.display =\n",
              "          google.colab.kernel.accessAllowed ? 'block' : 'none';\n",
              "\n",
              "        async function convertToInteractive(key) {\n",
              "          const element = document.querySelector('#df-a4da88ae-42aa-49c7-ad2d-669bbaee05ba');\n",
              "          const dataTable =\n",
              "            await google.colab.kernel.invokeFunction('convertToInteractive',\n",
              "                                                     [key], {});\n",
              "          if (!dataTable) return;\n",
              "\n",
              "          const docLinkHtml = 'Like what you see? Visit the ' +\n",
              "            '<a target=\"_blank\" href=https://colab.research.google.com/notebooks/data_table.ipynb>data table notebook</a>'\n",
              "            + ' to learn more about interactive tables.';\n",
              "          element.innerHTML = '';\n",
              "          dataTable['output_type'] = 'display_data';\n",
              "          await google.colab.output.renderOutput(dataTable, element);\n",
              "          const docLink = document.createElement('div');\n",
              "          docLink.innerHTML = docLinkHtml;\n",
              "          element.appendChild(docLink);\n",
              "        }\n",
              "      </script>\n",
              "    </div>\n",
              "  </div>\n",
              "  "
            ]
          },
          "metadata": {},
          "execution_count": 17
        }
      ]
    },
    {
      "cell_type": "markdown",
      "source": [
        "## Taking the values and converting them to numpy array"
      ],
      "metadata": {
        "id": "-qzxJdjrkR8Y"
      }
    },
    {
      "cell_type": "code",
      "source": [
        "full_features_array=full_features.values\n",
        "full_labels_array=full_labels.values\n",
        "print(f\"full_features_array\\nType : {type(full_features_array)}\\n\\n{full_features_array}\\n\\n\\n\")\n",
        "print(f\"full_labels_array\\nType : {type(full_labels_array)}\\n\\n{full_labels_array}\")"
      ],
      "metadata": {
        "colab": {
          "base_uri": "https://localhost:8080/"
        },
        "id": "3matfwzxjt7M",
        "outputId": "835d7a82-7420-4a3a-d213-d5eb2403e31e"
      },
      "execution_count": null,
      "outputs": [
        {
          "output_type": "stream",
          "name": "stdout",
          "text": [
            "full_features_array\n",
            "Type : <class 'numpy.ndarray'>\n",
            "\n",
            "[[-5.62587649e-01  1.30598522e+00 -2.09688469e+00 ...  6.21617857e-01\n",
            "   2.89811102e-01  9.10400000e+01]\n",
            " [ 1.22017014e+00 -3.61261619e-02  7.62628961e-01 ... -9.79369832e-02\n",
            "  -3.45746697e-03  1.81100000e+01]\n",
            " [ 1.23207341e+00  1.26394916e-01  1.58571115e-01 ... -1.77033472e-02\n",
            "  -2.98694601e-03  1.98000000e+00]\n",
            " ...\n",
            " [-3.56542639e+00  3.47790467e+00 -2.83155615e+00 ...  2.82892261e-01\n",
            "   2.13750141e-01  5.41000000e+00]\n",
            " [-4.35042891e+00 -1.76484481e+00 -1.29772586e+00 ... -1.12409663e+00\n",
            "   6.19150523e-01  7.66100000e+01]\n",
            " [-1.95275947e-01 -1.91216162e+00 -6.26015818e-01 ... -1.03826677e-01\n",
            "   1.38209234e-01  7.24440000e+02]]\n",
            "\n",
            "\n",
            "\n",
            "full_labels_array\n",
            "Type : <class 'numpy.ndarray'>\n",
            "\n",
            "[[0]\n",
            " [0]\n",
            " [0]\n",
            " ...\n",
            " [0]\n",
            " [0]\n",
            " [0]]\n"
          ]
        }
      ]
    },
    {
      "cell_type": "markdown",
      "source": [
        "## Splitting the data into train and test sets"
      ],
      "metadata": {
        "id": "UXc5YmqanFqE"
      }
    },
    {
      "cell_type": "code",
      "source": [
        "train_features,test_features,train_labels,test_labels=train_test_split(full_features_array,full_labels_array,train_size=0.90)"
      ],
      "metadata": {
        "id": "iZ701hLHd3Wz"
      },
      "execution_count": null,
      "outputs": []
    },
    {
      "cell_type": "markdown",
      "source": [
        "## Normalizing the values"
      ],
      "metadata": {
        "id": "AeYurTiRnPWT"
      }
    },
    {
      "cell_type": "code",
      "source": [
        "train_features=normalize(train_features)\n",
        "print(f\"train_features\\n\\n{train_features}\\n\\n\\n\")\n",
        "test_features=normalize(test_features)\n",
        "print(f\"train_features\\n\\n{train_features}\\n\\n\\n\")\n",
        "print(f\"test_features\\n\\n{test_features}\")"
      ],
      "metadata": {
        "colab": {
          "base_uri": "https://localhost:8080/"
        },
        "id": "qW-LGqj7nSmQ",
        "outputId": "4f762a3f-a9d5-48cd-d45a-8684827461c6"
      },
      "execution_count": null,
      "outputs": [
        {
          "output_type": "stream",
          "name": "stdout",
          "text": [
            "train_features\n",
            "\n",
            "[[-3.87501471e-01  4.89495424e-02 -4.12275791e-02 ...  4.46715432e-02\n",
            "  -7.80233510e-02  5.51251797e-01]\n",
            " [ 1.82925386e-02 -5.29105424e-03 -4.10424461e-03 ...  3.51407115e-04\n",
            "  -1.86479503e-04  9.99016472e-01]\n",
            " [ 2.28645921e-02 -7.11638764e-03 -9.28642750e-03 ...  7.34120042e-05\n",
            "  -3.32097742e-04  9.99269130e-01]\n",
            " ...\n",
            " [ 3.58099547e-02  7.14560914e-03  1.76479037e-02 ...  1.39497619e-03\n",
            "   8.22567772e-04  9.94979494e-01]\n",
            " [-3.07537893e-01  1.78658364e-01 -2.38292329e-01 ... -4.41539279e-02\n",
            "  -3.85505358e-02  1.29355957e-01]\n",
            " [ 1.41781921e-03 -1.70205232e-03 -2.76229618e-03 ... -2.77364354e-04\n",
            "   1.12915760e-04  9.99935406e-01]]\n",
            "\n",
            "\n",
            "\n",
            "train_features\n",
            "\n",
            "[[-3.87501471e-01  4.89495424e-02 -4.12275791e-02 ...  4.46715432e-02\n",
            "  -7.80233510e-02  5.51251797e-01]\n",
            " [ 1.82925386e-02 -5.29105424e-03 -4.10424461e-03 ...  3.51407115e-04\n",
            "  -1.86479503e-04  9.99016472e-01]\n",
            " [ 2.28645921e-02 -7.11638764e-03 -9.28642750e-03 ...  7.34120042e-05\n",
            "  -3.32097742e-04  9.99269130e-01]\n",
            " ...\n",
            " [ 3.58099547e-02  7.14560914e-03  1.76479037e-02 ...  1.39497619e-03\n",
            "   8.22567772e-04  9.94979494e-01]\n",
            " [-3.07537893e-01  1.78658364e-01 -2.38292329e-01 ... -4.41539279e-02\n",
            "  -3.85505358e-02  1.29355957e-01]\n",
            " [ 1.41781921e-03 -1.70205232e-03 -2.76229618e-03 ... -2.77364354e-04\n",
            "   1.12915760e-04  9.99935406e-01]]\n",
            "\n",
            "\n",
            "\n",
            "test_features\n",
            "\n",
            "[[ 7.25204386e-02 -2.25624428e-02 -6.06431621e-02 ...  2.36479459e-03\n",
            "   1.42298475e-03  9.55894888e-01]\n",
            " [-2.20657987e-02  2.31614212e-02  2.30793613e-02 ...  2.47038875e-03\n",
            "   2.98280039e-03  9.91028640e-01]\n",
            " [-2.80698157e-01  2.45591648e-01 -2.06808616e-01 ...  8.54136967e-02\n",
            "   5.54029525e-02  7.82581959e-01]\n",
            " ...\n",
            " [-6.01343596e-02  5.23606711e-02  5.32504257e-02 ... -1.82945802e-02\n",
            "   5.92367851e-03  9.73769850e-01]\n",
            " [ 9.33197243e-02 -6.60395307e-02  3.43038707e-02 ...  1.45520988e-03\n",
            "   7.74667827e-04  9.59191983e-01]\n",
            " [ 5.96142015e-02 -8.09164636e-02  8.49976673e-03 ...  1.09761711e-02\n",
            "   6.96410088e-03  8.97081716e-01]]\n"
          ]
        }
      ]
    },
    {
      "cell_type": "markdown",
      "source": [
        "## k_means_classification"
      ],
      "metadata": {
        "id": "lqoMelIleUZH"
      }
    },
    {
      "cell_type": "code",
      "source": [
        "kmeans=KMeans(n_clusters=2,random_state=0,algorithm=\"elkan\",max_iter=10000)\n",
        "kmeans.fit(train_features)\n",
        "kmeans_predicted_train_labels=kmeans.predict(train_features)"
      ],
      "metadata": {
        "id": "QyMTtfA6ej88"
      },
      "execution_count": null,
      "outputs": []
    },
    {
      "cell_type": "markdown",
      "source": [
        "##confusion matrix"
      ],
      "metadata": {
        "id": "PT39Ch28emlS"
      }
    },
    {
      "cell_type": "code",
      "source": [
        "print(\"tn --> true negatives\")\n",
        "print(\"fp --> false positives\")\n",
        "print(\"fn --> false negatives\")\n",
        "print(\"tp --> true positives\")\n",
        "tn,fp,fn,tp=confusion_matrix(train_labels,kmeans_predicted_train_labels).ravel()\n",
        "reassignflag=False\n",
        "if tn+tp<fn+fp:\n",
        "\t# clustering is opposite of original classification\n",
        "\treassignflag=True\n",
        "kmeans_predicted_test_labels=kmeans.predict(test_features)\n",
        "if reassignflag:\n",
        "\tkmeans_predicted_test_labels=1-kmeans_predicted_test_labels\n",
        "#calculating confusion matrix for kmeans test data\n",
        "tn,fp,fn,tp=confusion_matrix(test_labels,kmeans_predicted_test_labels).ravel()\n"
      ],
      "metadata": {
        "colab": {
          "base_uri": "https://localhost:8080/"
        },
        "id": "xBjymVcTewDm",
        "outputId": "ee69704b-408a-4868-cf7b-942cb9164214"
      },
      "execution_count": null,
      "outputs": [
        {
          "output_type": "stream",
          "name": "stdout",
          "text": [
            "tn --> true negatives\n",
            "fp --> false positives\n",
            "fn --> false negatives\n",
            "tp --> true positives\n"
          ]
        }
      ]
    },
    {
      "cell_type": "markdown",
      "source": [
        "##scoring kmeans"
      ],
      "metadata": {
        "id": "BuSyCj5Ye6jU"
      }
    },
    {
      "cell_type": "markdown",
      "source": [
        "Accuracy : number of correct predictions to the total number of predictions.\n",
        "> * (TP + TN) / (TP + FP + TN + FN)\n",
        "* Not suitable for class imbalanced data\n",
        "\n",
        "Precision : proportion of positive prediction that was actually correct.\n",
        "> * TP / (TP + FP)\n",
        "> * Maximize precision to minimize the FP errors.\n",
        "\n",
        "\n",
        "\n",
        "\n",
        "Recall : proportion of actual positive that was identified incorrectly.\n",
        "> * TP / (TP + FN)\n",
        "* Maximize recall to minimize the FN error.\n",
        "\n",
        "F1-Score : Uses both precision and recall, so it should be used if both of them are important for evaluation, but one (precision or recall) is slightly more important to consider than the other.\n",
        "> * (2 \\* Precision \\* Recall) / (Precision + Recall)\n",
        "* Harmonic mean of Precision and Recall.\n",
        "\n",
        "> * F1 score\tInterpretation\n",
        "\n",
        ">>> * 0.9\t=> Very good\n",
        "\n",
        ">>> * 0.8 - 0.9\t=> Good\n",
        "\n",
        ">>> * 0.5 - 0.8 =>\tOK\n",
        "\n",
        ">>> * < 0.5\t=> Not good"
      ],
      "metadata": {
        "id": "MhbEv8nnDfKy"
      }
    },
    {
      "cell_type": "code",
      "source": [
        "kmeans_accuracy_score=accuracy_score(test_labels,kmeans_predicted_test_labels)\n",
        "kmeans_precison_score=precision_score(test_labels,kmeans_predicted_test_labels)\n",
        "kmeans_recall_score=recall_score(test_labels,kmeans_predicted_test_labels)\n",
        "kmeans_f1_score=f1_score(test_labels,kmeans_predicted_test_labels)"
      ],
      "metadata": {
        "id": "Rlz7W9LTe7BN"
      },
      "execution_count": null,
      "outputs": []
    },
    {
      "cell_type": "markdown",
      "source": [
        "##printing"
      ],
      "metadata": {
        "id": "r3E6Kk_-fIAk"
      }
    },
    {
      "cell_type": "code",
      "source": [
        "print(\"\")\n",
        "print(\"K-Means\")\n",
        "print(\"Confusion Matrix\")\n",
        "print(\"tn =\",tn,\"fp =\",fp)\n",
        "print(\"fn =\",fn,\"tp =\",tp)\n",
        "print(\"Scores\")\n",
        "print(\"Accuracy -->\",kmeans_accuracy_score)\n",
        "print(\"Precison -->\",kmeans_precison_score)\n",
        "print(\"Recall -->\",kmeans_recall_score)\n",
        "print(\"F1 -->\",kmeans_f1_score)"
      ],
      "metadata": {
        "colab": {
          "base_uri": "https://localhost:8080/"
        },
        "id": "oLcLv_iIfFu3",
        "outputId": "83d92d92-a271-4bd7-d268-33057d999550"
      },
      "execution_count": null,
      "outputs": [
        {
          "output_type": "stream",
          "name": "stdout",
          "text": [
            "\n",
            "K-Means\n",
            "Confusion Matrix\n",
            "tn = 22513 fp = 5921\n",
            "fn = 22 tp = 25\n",
            "Scores\n",
            "Accuracy --> 0.7913345739264773\n",
            "Precison --> 0.004204507231752439\n",
            "Recall --> 0.5319148936170213\n",
            "F1 --> 0.00834306691139663\n"
          ]
        }
      ]
    },
    {
      "cell_type": "markdown",
      "source": [
        "##k_nearest_neighbours_classification"
      ],
      "metadata": {
        "id": "dlOjlooDfsYC"
      }
    },
    {
      "cell_type": "code",
      "source": [
        "knn=KNeighborsClassifier(n_neighbors=5,algorithm=\"kd_tree\",n_jobs=-1)\n",
        "knn.fit(train_features,train_labels.ravel())\n",
        "knn_predicted_test_labels=knn.predict(test_features)"
      ],
      "metadata": {
        "id": "hNSkK2n3eKp8"
      },
      "execution_count": null,
      "outputs": []
    },
    {
      "cell_type": "markdown",
      "source": [
        "##calculating confusion matrix for knn"
      ],
      "metadata": {
        "id": "p-SLeGdFfoM2"
      }
    },
    {
      "cell_type": "code",
      "source": [
        "tn,fp,fn,tp=confusion_matrix(test_labels,knn_predicted_test_labels).ravel()"
      ],
      "metadata": {
        "id": "jlYNh0z1fl8J"
      },
      "execution_count": null,
      "outputs": []
    },
    {
      "cell_type": "markdown",
      "source": [
        "##scoring knn"
      ],
      "metadata": {
        "id": "zEcafBjPfgO7"
      }
    },
    {
      "cell_type": "code",
      "source": [
        "knn_accuracy_score=accuracy_score(test_labels,knn_predicted_test_labels)\n",
        "knn_precison_score=precision_score(test_labels,knn_predicted_test_labels)\n",
        "knn_recall_score=recall_score(test_labels,knn_predicted_test_labels)\n",
        "knn_f1_score=f1_score(test_labels,knn_predicted_test_labels)"
      ],
      "metadata": {
        "id": "WRDMeOiPfebP"
      },
      "execution_count": null,
      "outputs": []
    },
    {
      "cell_type": "markdown",
      "source": [
        "##printing"
      ],
      "metadata": {
        "id": "0MoKbpVnfZZk"
      }
    },
    {
      "cell_type": "code",
      "source": [
        "# print(\"\")\n",
        "print(\"K-Nearest Neighbours\")\n",
        "print(\"Confusion Matrix\")\n",
        "print(\"tn =\",tn,\"fp =\",fp)\n",
        "print(\"fn =\",fn,\"tp =\",tp)\n",
        "print(\"Scores\")\n",
        "print(\"Accuracy -->\",knn_accuracy_score)\n",
        "print(\"Precison -->\",knn_precison_score)\n",
        "print(\"Recall -->\",knn_recall_score)\n",
        "print(\"F1 -->\",knn_f1_score)"
      ],
      "metadata": {
        "colab": {
          "base_uri": "https://localhost:8080/"
        },
        "id": "45PZYGQ1fXK4",
        "outputId": "ac52e7ef-1d56-4540-c69c-139281bf0b7e"
      },
      "execution_count": null,
      "outputs": [
        {
          "output_type": "stream",
          "name": "stdout",
          "text": [
            "\n",
            "K-Nearest Neighbours\n",
            "Confusion Matrix\n",
            "tn = 28429 fp = 5\n",
            "fn = 9 tp = 38\n",
            "Scores\n",
            "Accuracy --> 0.9995084442259752\n",
            "Precison --> 0.8837209302325582\n",
            "Recall --> 0.8085106382978723\n",
            "F1 --> 0.8444444444444444\n"
          ]
        }
      ]
    },
    {
      "cell_type": "markdown",
      "source": [
        "##time elapsed"
      ],
      "metadata": {
        "id": "IommhTNgfQ4C"
      }
    },
    {
      "cell_type": "code",
      "source": [
        "toc=time.time()\n",
        "elapsedtime=toc-tic\n",
        "print(\"\")\n",
        "print(\"Time Taken : \"+str(elapsedtime)+\"seconds\")"
      ],
      "metadata": {
        "colab": {
          "base_uri": "https://localhost:8080/"
        },
        "id": "hGfg5_infOwZ",
        "outputId": "befb27cb-d179-4427-b2ff-4c272e37f321"
      },
      "execution_count": null,
      "outputs": [
        {
          "output_type": "stream",
          "name": "stdout",
          "text": [
            "\n",
            "Time Taken : 261.6710875034332seconds\n"
          ]
        }
      ]
    }
  ]
}